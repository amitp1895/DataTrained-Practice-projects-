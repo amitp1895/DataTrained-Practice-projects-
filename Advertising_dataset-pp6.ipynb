{
 "cells": [
  {
   "cell_type": "code",
   "execution_count": 1,
   "metadata": {},
   "outputs": [],
   "source": [
    "import pandas as pd\n",
    "import numpy as np \n",
    "import matplotlib.pyplot as plt\n",
    "import seaborn as sns\n",
    "import matplotlib as mpl\n",
    "import sklearn\n",
    "import warnings\n",
    "warnings.filterwarnings(\"ignore\")\n",
    "from statsmodels.stats.outliers_influence import variance_inflation_factor\n",
    "from sklearn.linear_model import LinearRegression\n",
    "from sklearn.model_selection import train_test_split\n",
    "from sklearn.preprocessing import StandardScaler"
   ]
  },
  {
   "cell_type": "code",
   "execution_count": 2,
   "metadata": {},
   "outputs": [],
   "source": [
    "df=pd.read_csv(\"Advertising.csv\")"
   ]
  },
  {
   "cell_type": "code",
   "execution_count": 3,
   "metadata": {},
   "outputs": [
    {
     "data": {
      "text/html": [
       "<div>\n",
       "<style scoped>\n",
       "    .dataframe tbody tr th:only-of-type {\n",
       "        vertical-align: middle;\n",
       "    }\n",
       "\n",
       "    .dataframe tbody tr th {\n",
       "        vertical-align: top;\n",
       "    }\n",
       "\n",
       "    .dataframe thead th {\n",
       "        text-align: right;\n",
       "    }\n",
       "</style>\n",
       "<table border=\"1\" class=\"dataframe\">\n",
       "  <thead>\n",
       "    <tr style=\"text-align: right;\">\n",
       "      <th></th>\n",
       "      <th>Unnamed: 0</th>\n",
       "      <th>TV</th>\n",
       "      <th>radio</th>\n",
       "      <th>newspaper</th>\n",
       "      <th>sales</th>\n",
       "    </tr>\n",
       "  </thead>\n",
       "  <tbody>\n",
       "    <tr>\n",
       "      <th>0</th>\n",
       "      <td>1</td>\n",
       "      <td>230.1</td>\n",
       "      <td>37.8</td>\n",
       "      <td>69.2</td>\n",
       "      <td>22.1</td>\n",
       "    </tr>\n",
       "    <tr>\n",
       "      <th>1</th>\n",
       "      <td>2</td>\n",
       "      <td>44.5</td>\n",
       "      <td>39.3</td>\n",
       "      <td>45.1</td>\n",
       "      <td>10.4</td>\n",
       "    </tr>\n",
       "    <tr>\n",
       "      <th>2</th>\n",
       "      <td>3</td>\n",
       "      <td>17.2</td>\n",
       "      <td>45.9</td>\n",
       "      <td>69.3</td>\n",
       "      <td>9.3</td>\n",
       "    </tr>\n",
       "    <tr>\n",
       "      <th>3</th>\n",
       "      <td>4</td>\n",
       "      <td>151.5</td>\n",
       "      <td>41.3</td>\n",
       "      <td>58.5</td>\n",
       "      <td>18.5</td>\n",
       "    </tr>\n",
       "    <tr>\n",
       "      <th>4</th>\n",
       "      <td>5</td>\n",
       "      <td>180.8</td>\n",
       "      <td>10.8</td>\n",
       "      <td>58.4</td>\n",
       "      <td>12.9</td>\n",
       "    </tr>\n",
       "    <tr>\n",
       "      <th>...</th>\n",
       "      <td>...</td>\n",
       "      <td>...</td>\n",
       "      <td>...</td>\n",
       "      <td>...</td>\n",
       "      <td>...</td>\n",
       "    </tr>\n",
       "    <tr>\n",
       "      <th>195</th>\n",
       "      <td>196</td>\n",
       "      <td>38.2</td>\n",
       "      <td>3.7</td>\n",
       "      <td>13.8</td>\n",
       "      <td>7.6</td>\n",
       "    </tr>\n",
       "    <tr>\n",
       "      <th>196</th>\n",
       "      <td>197</td>\n",
       "      <td>94.2</td>\n",
       "      <td>4.9</td>\n",
       "      <td>8.1</td>\n",
       "      <td>9.7</td>\n",
       "    </tr>\n",
       "    <tr>\n",
       "      <th>197</th>\n",
       "      <td>198</td>\n",
       "      <td>177.0</td>\n",
       "      <td>9.3</td>\n",
       "      <td>6.4</td>\n",
       "      <td>12.8</td>\n",
       "    </tr>\n",
       "    <tr>\n",
       "      <th>198</th>\n",
       "      <td>199</td>\n",
       "      <td>283.6</td>\n",
       "      <td>42.0</td>\n",
       "      <td>66.2</td>\n",
       "      <td>25.5</td>\n",
       "    </tr>\n",
       "    <tr>\n",
       "      <th>199</th>\n",
       "      <td>200</td>\n",
       "      <td>232.1</td>\n",
       "      <td>8.6</td>\n",
       "      <td>8.7</td>\n",
       "      <td>13.4</td>\n",
       "    </tr>\n",
       "  </tbody>\n",
       "</table>\n",
       "<p>200 rows × 5 columns</p>\n",
       "</div>"
      ],
      "text/plain": [
       "     Unnamed: 0     TV  radio  newspaper  sales\n",
       "0             1  230.1   37.8       69.2   22.1\n",
       "1             2   44.5   39.3       45.1   10.4\n",
       "2             3   17.2   45.9       69.3    9.3\n",
       "3             4  151.5   41.3       58.5   18.5\n",
       "4             5  180.8   10.8       58.4   12.9\n",
       "..          ...    ...    ...        ...    ...\n",
       "195         196   38.2    3.7       13.8    7.6\n",
       "196         197   94.2    4.9        8.1    9.7\n",
       "197         198  177.0    9.3        6.4   12.8\n",
       "198         199  283.6   42.0       66.2   25.5\n",
       "199         200  232.1    8.6        8.7   13.4\n",
       "\n",
       "[200 rows x 5 columns]"
      ]
     },
     "execution_count": 3,
     "metadata": {},
     "output_type": "execute_result"
    }
   ],
   "source": [
    "df"
   ]
  },
  {
   "cell_type": "markdown",
   "metadata": {},
   "source": [
    "observtion  - Its a linear regression problem "
   ]
  },
  {
   "cell_type": "code",
   "execution_count": 4,
   "metadata": {},
   "outputs": [
    {
     "data": {
      "text/plain": [
       "Index(['Unnamed: 0', 'TV', 'radio', 'newspaper', 'sales'], dtype='object')"
      ]
     },
     "execution_count": 4,
     "metadata": {},
     "output_type": "execute_result"
    }
   ],
   "source": [
    "df.keys()"
   ]
  },
  {
   "cell_type": "code",
   "execution_count": null,
   "metadata": {},
   "outputs": [],
   "source": []
  },
  {
   "cell_type": "code",
   "execution_count": 5,
   "metadata": {},
   "outputs": [],
   "source": [
    "df.drop(\"Unnamed: 0\",axis=1,inplace=True)"
   ]
  },
  {
   "cell_type": "code",
   "execution_count": 6,
   "metadata": {},
   "outputs": [
    {
     "data": {
      "text/html": [
       "<div>\n",
       "<style scoped>\n",
       "    .dataframe tbody tr th:only-of-type {\n",
       "        vertical-align: middle;\n",
       "    }\n",
       "\n",
       "    .dataframe tbody tr th {\n",
       "        vertical-align: top;\n",
       "    }\n",
       "\n",
       "    .dataframe thead th {\n",
       "        text-align: right;\n",
       "    }\n",
       "</style>\n",
       "<table border=\"1\" class=\"dataframe\">\n",
       "  <thead>\n",
       "    <tr style=\"text-align: right;\">\n",
       "      <th></th>\n",
       "      <th>TV</th>\n",
       "      <th>radio</th>\n",
       "      <th>newspaper</th>\n",
       "      <th>sales</th>\n",
       "    </tr>\n",
       "  </thead>\n",
       "  <tbody>\n",
       "    <tr>\n",
       "      <th>0</th>\n",
       "      <td>230.1</td>\n",
       "      <td>37.8</td>\n",
       "      <td>69.2</td>\n",
       "      <td>22.1</td>\n",
       "    </tr>\n",
       "    <tr>\n",
       "      <th>1</th>\n",
       "      <td>44.5</td>\n",
       "      <td>39.3</td>\n",
       "      <td>45.1</td>\n",
       "      <td>10.4</td>\n",
       "    </tr>\n",
       "    <tr>\n",
       "      <th>2</th>\n",
       "      <td>17.2</td>\n",
       "      <td>45.9</td>\n",
       "      <td>69.3</td>\n",
       "      <td>9.3</td>\n",
       "    </tr>\n",
       "    <tr>\n",
       "      <th>3</th>\n",
       "      <td>151.5</td>\n",
       "      <td>41.3</td>\n",
       "      <td>58.5</td>\n",
       "      <td>18.5</td>\n",
       "    </tr>\n",
       "    <tr>\n",
       "      <th>4</th>\n",
       "      <td>180.8</td>\n",
       "      <td>10.8</td>\n",
       "      <td>58.4</td>\n",
       "      <td>12.9</td>\n",
       "    </tr>\n",
       "    <tr>\n",
       "      <th>...</th>\n",
       "      <td>...</td>\n",
       "      <td>...</td>\n",
       "      <td>...</td>\n",
       "      <td>...</td>\n",
       "    </tr>\n",
       "    <tr>\n",
       "      <th>195</th>\n",
       "      <td>38.2</td>\n",
       "      <td>3.7</td>\n",
       "      <td>13.8</td>\n",
       "      <td>7.6</td>\n",
       "    </tr>\n",
       "    <tr>\n",
       "      <th>196</th>\n",
       "      <td>94.2</td>\n",
       "      <td>4.9</td>\n",
       "      <td>8.1</td>\n",
       "      <td>9.7</td>\n",
       "    </tr>\n",
       "    <tr>\n",
       "      <th>197</th>\n",
       "      <td>177.0</td>\n",
       "      <td>9.3</td>\n",
       "      <td>6.4</td>\n",
       "      <td>12.8</td>\n",
       "    </tr>\n",
       "    <tr>\n",
       "      <th>198</th>\n",
       "      <td>283.6</td>\n",
       "      <td>42.0</td>\n",
       "      <td>66.2</td>\n",
       "      <td>25.5</td>\n",
       "    </tr>\n",
       "    <tr>\n",
       "      <th>199</th>\n",
       "      <td>232.1</td>\n",
       "      <td>8.6</td>\n",
       "      <td>8.7</td>\n",
       "      <td>13.4</td>\n",
       "    </tr>\n",
       "  </tbody>\n",
       "</table>\n",
       "<p>200 rows × 4 columns</p>\n",
       "</div>"
      ],
      "text/plain": [
       "        TV  radio  newspaper  sales\n",
       "0    230.1   37.8       69.2   22.1\n",
       "1     44.5   39.3       45.1   10.4\n",
       "2     17.2   45.9       69.3    9.3\n",
       "3    151.5   41.3       58.5   18.5\n",
       "4    180.8   10.8       58.4   12.9\n",
       "..     ...    ...        ...    ...\n",
       "195   38.2    3.7       13.8    7.6\n",
       "196   94.2    4.9        8.1    9.7\n",
       "197  177.0    9.3        6.4   12.8\n",
       "198  283.6   42.0       66.2   25.5\n",
       "199  232.1    8.6        8.7   13.4\n",
       "\n",
       "[200 rows x 4 columns]"
      ]
     },
     "execution_count": 6,
     "metadata": {},
     "output_type": "execute_result"
    }
   ],
   "source": [
    "df"
   ]
  },
  {
   "cell_type": "markdown",
   "metadata": {},
   "source": [
    "observation -3 input columns & 1 output column \n"
   ]
  },
  {
   "cell_type": "code",
   "execution_count": 7,
   "metadata": {},
   "outputs": [
    {
     "data": {
      "text/html": [
       "<div>\n",
       "<style scoped>\n",
       "    .dataframe tbody tr th:only-of-type {\n",
       "        vertical-align: middle;\n",
       "    }\n",
       "\n",
       "    .dataframe tbody tr th {\n",
       "        vertical-align: top;\n",
       "    }\n",
       "\n",
       "    .dataframe thead th {\n",
       "        text-align: right;\n",
       "    }\n",
       "</style>\n",
       "<table border=\"1\" class=\"dataframe\">\n",
       "  <thead>\n",
       "    <tr style=\"text-align: right;\">\n",
       "      <th></th>\n",
       "      <th>TV</th>\n",
       "      <th>radio</th>\n",
       "      <th>newspaper</th>\n",
       "      <th>sales</th>\n",
       "    </tr>\n",
       "  </thead>\n",
       "  <tbody>\n",
       "    <tr>\n",
       "      <th>0</th>\n",
       "      <td>230.1</td>\n",
       "      <td>37.8</td>\n",
       "      <td>69.2</td>\n",
       "      <td>22.1</td>\n",
       "    </tr>\n",
       "    <tr>\n",
       "      <th>1</th>\n",
       "      <td>44.5</td>\n",
       "      <td>39.3</td>\n",
       "      <td>45.1</td>\n",
       "      <td>10.4</td>\n",
       "    </tr>\n",
       "    <tr>\n",
       "      <th>2</th>\n",
       "      <td>17.2</td>\n",
       "      <td>45.9</td>\n",
       "      <td>69.3</td>\n",
       "      <td>9.3</td>\n",
       "    </tr>\n",
       "    <tr>\n",
       "      <th>3</th>\n",
       "      <td>151.5</td>\n",
       "      <td>41.3</td>\n",
       "      <td>58.5</td>\n",
       "      <td>18.5</td>\n",
       "    </tr>\n",
       "    <tr>\n",
       "      <th>4</th>\n",
       "      <td>180.8</td>\n",
       "      <td>10.8</td>\n",
       "      <td>58.4</td>\n",
       "      <td>12.9</td>\n",
       "    </tr>\n",
       "    <tr>\n",
       "      <th>...</th>\n",
       "      <td>...</td>\n",
       "      <td>...</td>\n",
       "      <td>...</td>\n",
       "      <td>...</td>\n",
       "    </tr>\n",
       "    <tr>\n",
       "      <th>195</th>\n",
       "      <td>38.2</td>\n",
       "      <td>3.7</td>\n",
       "      <td>13.8</td>\n",
       "      <td>7.6</td>\n",
       "    </tr>\n",
       "    <tr>\n",
       "      <th>196</th>\n",
       "      <td>94.2</td>\n",
       "      <td>4.9</td>\n",
       "      <td>8.1</td>\n",
       "      <td>9.7</td>\n",
       "    </tr>\n",
       "    <tr>\n",
       "      <th>197</th>\n",
       "      <td>177.0</td>\n",
       "      <td>9.3</td>\n",
       "      <td>6.4</td>\n",
       "      <td>12.8</td>\n",
       "    </tr>\n",
       "    <tr>\n",
       "      <th>198</th>\n",
       "      <td>283.6</td>\n",
       "      <td>42.0</td>\n",
       "      <td>66.2</td>\n",
       "      <td>25.5</td>\n",
       "    </tr>\n",
       "    <tr>\n",
       "      <th>199</th>\n",
       "      <td>232.1</td>\n",
       "      <td>8.6</td>\n",
       "      <td>8.7</td>\n",
       "      <td>13.4</td>\n",
       "    </tr>\n",
       "  </tbody>\n",
       "</table>\n",
       "<p>200 rows × 4 columns</p>\n",
       "</div>"
      ],
      "text/plain": [
       "        TV  radio  newspaper  sales\n",
       "0    230.1   37.8       69.2   22.1\n",
       "1     44.5   39.3       45.1   10.4\n",
       "2     17.2   45.9       69.3    9.3\n",
       "3    151.5   41.3       58.5   18.5\n",
       "4    180.8   10.8       58.4   12.9\n",
       "..     ...    ...        ...    ...\n",
       "195   38.2    3.7       13.8    7.6\n",
       "196   94.2    4.9        8.1    9.7\n",
       "197  177.0    9.3        6.4   12.8\n",
       "198  283.6   42.0       66.2   25.5\n",
       "199  232.1    8.6        8.7   13.4\n",
       "\n",
       "[200 rows x 4 columns]"
      ]
     },
     "execution_count": 7,
     "metadata": {},
     "output_type": "execute_result"
    }
   ],
   "source": [
    "df"
   ]
  },
  {
   "cell_type": "code",
   "execution_count": 8,
   "metadata": {},
   "outputs": [
    {
     "data": {
      "text/plain": [
       "(200, 4)"
      ]
     },
     "execution_count": 8,
     "metadata": {},
     "output_type": "execute_result"
    }
   ],
   "source": [
    "df.shape\n"
   ]
  },
  {
   "cell_type": "markdown",
   "metadata": {},
   "source": [
    "#200 rows , 4 columns "
   ]
  },
  {
   "cell_type": "code",
   "execution_count": 9,
   "metadata": {},
   "outputs": [
    {
     "data": {
      "text/plain": [
       "TV           float64\n",
       "radio        float64\n",
       "newspaper    float64\n",
       "sales        float64\n",
       "dtype: object"
      ]
     },
     "execution_count": 9,
     "metadata": {},
     "output_type": "execute_result"
    }
   ],
   "source": [
    "df.dtypes"
   ]
  },
  {
   "cell_type": "markdown",
   "metadata": {},
   "source": [
    "Observation- data is in float dtype .no encoding required . "
   ]
  },
  {
   "cell_type": "code",
   "execution_count": 10,
   "metadata": {},
   "outputs": [
    {
     "data": {
      "text/plain": [
       "<AxesSubplot:>"
      ]
     },
     "execution_count": 10,
     "metadata": {},
     "output_type": "execute_result"
    },
    {
     "data": {
      "image/png": "[encoded data removed]",
      "text/plain": [
       "<Figure size 432x288 with 2 Axes>"
      ]
     },
     "metadata": {
      "needs_background": "light"
     },
     "output_type": "display_data"
    }
   ],
   "source": [
    "sns.heatmap(df.isnull())"
   ]
  },
  {
   "cell_type": "code",
   "execution_count": 11,
   "metadata": {},
   "outputs": [
    {
     "data": {
      "text/plain": [
       "TV           0\n",
       "radio        0\n",
       "newspaper    0\n",
       "sales        0\n",
       "dtype: int64"
      ]
     },
     "execution_count": 11,
     "metadata": {},
     "output_type": "execute_result"
    }
   ],
   "source": [
    "df.isnull().sum()"
   ]
  },
  {
   "cell_type": "markdown",
   "metadata": {},
   "source": [
    "Observation- no null value found to treat "
   ]
  },
  {
   "cell_type": "code",
   "execution_count": 12,
   "metadata": {},
   "outputs": [
    {
     "data": {
      "text/html": [
       "<div>\n",
       "<style scoped>\n",
       "    .dataframe tbody tr th:only-of-type {\n",
       "        vertical-align: middle;\n",
       "    }\n",
       "\n",
       "    .dataframe tbody tr th {\n",
       "        vertical-align: top;\n",
       "    }\n",
       "\n",
       "    .dataframe thead th {\n",
       "        text-align: right;\n",
       "    }\n",
       "</style>\n",
       "<table border=\"1\" class=\"dataframe\">\n",
       "  <thead>\n",
       "    <tr style=\"text-align: right;\">\n",
       "      <th></th>\n",
       "      <th>TV</th>\n",
       "      <th>radio</th>\n",
       "      <th>newspaper</th>\n",
       "      <th>sales</th>\n",
       "    </tr>\n",
       "  </thead>\n",
       "  <tbody>\n",
       "    <tr>\n",
       "      <th>count</th>\n",
       "      <td>200.000</td>\n",
       "      <td>200.000</td>\n",
       "      <td>200.000</td>\n",
       "      <td>200.000</td>\n",
       "    </tr>\n",
       "    <tr>\n",
       "      <th>mean</th>\n",
       "      <td>147.042</td>\n",
       "      <td>23.264</td>\n",
       "      <td>30.554</td>\n",
       "      <td>14.023</td>\n",
       "    </tr>\n",
       "    <tr>\n",
       "      <th>std</th>\n",
       "      <td>85.854</td>\n",
       "      <td>14.847</td>\n",
       "      <td>21.779</td>\n",
       "      <td>5.217</td>\n",
       "    </tr>\n",
       "    <tr>\n",
       "      <th>min</th>\n",
       "      <td>0.700</td>\n",
       "      <td>0.000</td>\n",
       "      <td>0.300</td>\n",
       "      <td>1.600</td>\n",
       "    </tr>\n",
       "    <tr>\n",
       "      <th>25%</th>\n",
       "      <td>74.375</td>\n",
       "      <td>9.975</td>\n",
       "      <td>12.750</td>\n",
       "      <td>10.375</td>\n",
       "    </tr>\n",
       "    <tr>\n",
       "      <th>50%</th>\n",
       "      <td>149.750</td>\n",
       "      <td>22.900</td>\n",
       "      <td>25.750</td>\n",
       "      <td>12.900</td>\n",
       "    </tr>\n",
       "    <tr>\n",
       "      <th>75%</th>\n",
       "      <td>218.825</td>\n",
       "      <td>36.525</td>\n",
       "      <td>45.100</td>\n",
       "      <td>17.400</td>\n",
       "    </tr>\n",
       "    <tr>\n",
       "      <th>max</th>\n",
       "      <td>296.400</td>\n",
       "      <td>49.600</td>\n",
       "      <td>114.000</td>\n",
       "      <td>27.000</td>\n",
       "    </tr>\n",
       "  </tbody>\n",
       "</table>\n",
       "</div>"
      ],
      "text/plain": [
       "            TV    radio  newspaper    sales\n",
       "count  200.000  200.000    200.000  200.000\n",
       "mean   147.042   23.264     30.554   14.023\n",
       "std     85.854   14.847     21.779    5.217\n",
       "min      0.700    0.000      0.300    1.600\n",
       "25%     74.375    9.975     12.750   10.375\n",
       "50%    149.750   22.900     25.750   12.900\n",
       "75%    218.825   36.525     45.100   17.400\n",
       "max    296.400   49.600    114.000   27.000"
      ]
     },
     "execution_count": 12,
     "metadata": {},
     "output_type": "execute_result"
    }
   ],
   "source": [
    "round(df.describe(),3)"
   ]
  },
  {
   "cell_type": "code",
   "execution_count": 13,
   "metadata": {},
   "outputs": [
    {
     "data": {
      "text/plain": [
       "TV          -0.069853\n",
       "radio        0.094175\n",
       "newspaper    0.894720\n",
       "sales        0.407571\n",
       "dtype: float64"
      ]
     },
     "execution_count": 13,
     "metadata": {},
     "output_type": "execute_result"
    }
   ],
   "source": [
    "df.skew()"
   ]
  },
  {
   "cell_type": "code",
   "execution_count": 14,
   "metadata": {},
   "outputs": [
    {
     "data": {
      "text/plain": [
       "<AxesSubplot:>"
      ]
     },
     "execution_count": 14,
     "metadata": {},
     "output_type": "execute_result"
    },
    {
     "data": {
      "image/png": "[encoded data removed]",
      "text/plain": [
       "<Figure size 432x288 with 1 Axes>"
      ]
     },
     "metadata": {
      "needs_background": "light"
     },
     "output_type": "display_data"
    }
   ],
   "source": [
    "df[\"TV\"].plot.box()"
   ]
  },
  {
   "cell_type": "code",
   "execution_count": 15,
   "metadata": {},
   "outputs": [
    {
     "data": {
      "text/plain": [
       "<AxesSubplot:>"
      ]
     },
     "execution_count": 15,
     "metadata": {},
     "output_type": "execute_result"
    },
    {
     "data": {
      "image/png": "[encoded data removed]",
      "text/plain": [
       "<Figure size 432x288 with 1 Axes>"
      ]
     },
     "metadata": {
      "needs_background": "light"
     },
     "output_type": "display_data"
    }
   ],
   "source": [
    "df[\"radio\"].plot.box()"
   ]
  },
  {
   "cell_type": "code",
   "execution_count": 16,
   "metadata": {},
   "outputs": [
    {
     "data": {
      "text/plain": [
       "<AxesSubplot:>"
      ]
     },
     "execution_count": 16,
     "metadata": {},
     "output_type": "execute_result"
    },
    {
     "data": {
      "image/png": "[encoded data removed]",
      "text/plain": [
       "<Figure size 432x288 with 1 Axes>"
      ]
     },
     "metadata": {
      "needs_background": "light"
     },
     "output_type": "display_data"
    }
   ],
   "source": [
    "df[\"newspaper\"].plot.box()"
   ]
  },
  {
   "cell_type": "markdown",
   "metadata": {},
   "source": [
    "observation- no much outliers present in dataset . few are there in the newspaper column"
   ]
  },
  {
   "cell_type": "code",
   "execution_count": 17,
   "metadata": {},
   "outputs": [],
   "source": [
    "key_list=[\"TV\",\"radio\",\"newspaper\"]"
   ]
  },
  {
   "cell_type": "code",
   "execution_count": 18,
   "metadata": {},
   "outputs": [
    {
     "data": {
      "text/plain": [
       "<AxesSubplot:xlabel='TV', ylabel='Density'>"
      ]
     },
     "execution_count": 18,
     "metadata": {},
     "output_type": "execute_result"
    },
    {
     "data": {
      "image/png": "[encoded data removed]",
      "text/plain": [
       "<Figure size 432x288 with 1 Axes>"
      ]
     },
     "metadata": {
      "needs_background": "light"
     },
     "output_type": "display_data"
    }
   ],
   "source": [
    "sns.distplot(df['TV'],color=\"r\")"
   ]
  },
  {
   "cell_type": "code",
   "execution_count": 19,
   "metadata": {},
   "outputs": [
    {
     "data": {
      "text/plain": [
       "<AxesSubplot:xlabel='radio', ylabel='Density'>"
      ]
     },
     "execution_count": 19,
     "metadata": {},
     "output_type": "execute_result"
    },
    {
     "data": {
      "image/png": "[encoded data removed]",
      "text/plain": [
       "<Figure size 432x288 with 1 Axes>"
      ]
     },
     "metadata": {
      "needs_background": "light"
     },
     "output_type": "display_data"
    }
   ],
   "source": [
    "sns.distplot(df['radio'],color=\"r\")"
   ]
  },
  {
   "cell_type": "code",
   "execution_count": 20,
   "metadata": {},
   "outputs": [
    {
     "data": {
      "text/plain": [
       "<AxesSubplot:xlabel='newspaper', ylabel='Density'>"
      ]
     },
     "execution_count": 20,
     "metadata": {},
     "output_type": "execute_result"
    },
    {
     "data": {
      "image/png": "[encoded data removed]",
      "text/plain": [
       "<Figure size 432x288 with 1 Axes>"
      ]
     },
     "metadata": {
      "needs_background": "light"
     },
     "output_type": "display_data"
    }
   ],
   "source": [
    "sns.distplot(df['newspaper'],color=\"r\")"
   ]
  },
  {
   "cell_type": "markdown",
   "metadata": {},
   "source": [
    "observation - as the data is actual sales data so it lies in positive side \n",
    ">2-also  the data is little bit skewed "
   ]
  },
  {
   "cell_type": "code",
   "execution_count": 21,
   "metadata": {},
   "outputs": [
    {
     "data": {
      "text/plain": [
       "<seaborn.axisgrid.PairGrid at 0x21261470790>"
      ]
     },
     "execution_count": 21,
     "metadata": {},
     "output_type": "execute_result"
    },
    {
     "data": {
      "image/png": "[encoded data removed]",
      "text/plain": [
       "<Figure size 720x720 with 20 Axes>"
      ]
     },
     "metadata": {
      "needs_background": "light"
     },
     "output_type": "display_data"
    }
   ],
   "source": [
    "sns.pairplot(df,palette=\"r\") "
   ]
  },
  {
   "cell_type": "markdown",
   "metadata": {},
   "source": [
    "observation - tv is imapcting the sale hugely "
   ]
  },
  {
   "cell_type": "code",
   "execution_count": 22,
   "metadata": {},
   "outputs": [
    {
     "data": {
      "text/plain": [
       "array([[9.69852266e-01, 9.81522472e-01, 1.77894547e+00, 1.55205313e+00],\n",
       "       [1.19737623e+00, 1.08280781e+00, 6.69578760e-01, 6.96046111e-01],\n",
       "       [1.51615499e+00, 1.52846331e+00, 1.78354865e+00, 9.07405869e-01],\n",
       "       [5.20496822e-02, 1.21785493e+00, 1.28640506e+00, 8.60330287e-01],\n",
       "       [3.94182198e-01, 8.41613655e-01, 1.28180188e+00, 2.15683025e-01],\n",
       "       [1.61540845e+00, 1.73103399e+00, 2.04592999e+00, 1.31091086e+00],\n",
       "       [1.04557682e+00, 6.43904671e-01, 3.24708413e-01, 4.27042783e-01],\n",
       "       [3.13436589e-01, 2.47406325e-01, 8.72486994e-01, 1.58039455e-01],\n",
       "       [1.61657614e+00, 1.42906863e+00, 1.36042422e+00, 1.77205942e+00],\n",
       "       [6.16042873e-01, 1.39530685e+00, 4.30581584e-01, 6.57617064e-01],\n",
       "       [9.45155670e-01, 1.17923146e+00, 2.92486143e-01, 1.04190753e+00],\n",
       "       [7.90028350e-01, 4.96973404e-02, 1.22232878e+00, 6.48970529e-01],\n",
       "       [1.43908760e+00, 7.99208859e-01, 1.62704048e+00, 9.26620392e-01],\n",
       "       [5.78501712e-01, 1.05768905e+00, 1.07502697e+00, 8.30547775e-01],\n",
       "       [6.66253447e-01, 6.50657027e-01, 7.11007392e-01, 9.56402904e-01],\n",
       "       [5.64664612e-01, 1.65000572e+00, 1.02862691e+00, 1.60969670e+00],\n",
       "       [9.25304978e-01, 9.00494200e-01, 3.84117072e+00, 2.92541119e-01],\n",
       "       [1.56887609e+00, 1.10306488e+00, 1.16211917e+00, 1.99398717e+00],\n",
       "       [9.08957349e-01, 1.86635121e-01, 5.64073843e-01, 5.23115400e-01],\n",
       "       [3.00679600e-03, 4.29449843e-02, 5.27248393e-01, 1.10963873e-01],\n",
       "       [8.33232798e-01, 2.99534513e-01, 1.05164281e+00, 7.64257669e-01],\n",
       "       [1.05509347e+00, 1.22649795e+00, 3.24708413e-01, 2.92541119e-01],\n",
       "       [1.56286250e+00, 4.97243498e-01, 8.76721921e-01, 1.61834324e+00],\n",
       "       [9.48833887e-01, 4.29719938e-01, 2.00422516e-01, 2.83894584e-01],\n",
       "       [9.89527805e-01, 7.20071247e-01, 5.64073843e-01, 8.30547775e-01],\n",
       "       [1.35285385e+00, 1.33453565e+00, 5.08835667e-01, 3.88613736e-01],\n",
       "       [4.83714657e-02, 4.07572210e-01, 8.26455181e-01, 1.87821967e-01],\n",
       "       [1.08662104e+00, 4.43224650e-01, 3.52327501e-01, 3.60752677e-01],\n",
       "       [1.18820988e+00, 2.59020377e-01, 3.52327501e-01, 9.37188380e-01],\n",
       "       [8.92609721e-01, 4.90491142e-01, 4.71641962e-01, 6.76831588e-01],\n",
       "       [1.70316018e+00, 3.40048650e-01, 5.82118314e-01, 1.41755147e+00],\n",
       "       [3.98677796e-01, 3.95958157e-01, 3.70371972e-01, 4.07828260e-01],\n",
       "       [5.82004775e-01, 1.46958277e+00, 2.55016247e-02, 8.49762299e-01],\n",
       "       [1.38438142e+00, 2.20396901e-01, 1.39264649e+00, 6.48970529e-01],\n",
       "       [5.99520091e-01, 1.47633512e+00, 1.06582061e+00, 8.68976822e-01],\n",
       "       [1.67747105e+00, 1.29402151e+00, 1.01518562e+00, 2.34897549e-01],\n",
       "       [1.39956136e+00, 1.38666383e+00, 1.17629696e+00, 2.18613240e+00],\n",
       "       [8.44734522e-01, 1.76479577e+00, 6.97197848e-01, 1.30178396e-01],\n",
       "       [1.21372386e+00, 2.32010953e-01, 2.09260624e-01, 7.53689682e-01],\n",
       "       [9.45330823e-01, 9.74770116e-01, 6.65620024e-02, 1.43676599e+00],\n",
       "       [6.47570443e-01, 6.50927121e-02, 4.81492770e-02, 4.95254341e-01],\n",
       "       [3.49810063e-01, 6.84418807e-01, 3.74975153e-01, 5.91326959e-01],\n",
       "       [1.71133400e+00, 2.99534513e-01, 1.32359877e+00, 1.28304980e+00],\n",
       "       [6.98948705e-01, 1.00367020e+00, 1.91216154e-01, 2.15683025e-01],\n",
       "       [1.42390765e+00, 1.64487393e-01, 5.86721496e-01, 1.06112206e+00],\n",
       "       [3.27623995e-01, 5.15880000e-02, 4.35460956e-02, 1.68607443e-01],\n",
       "       [6.69581357e-01, 9.02384859e-01, 2.36879713e-01, 6.57617064e-01],\n",
       "       [1.08428567e+00, 1.23135965e+00, 5.54867481e-01, 1.76341289e+00],\n",
       "       [9.35989321e-01, 5.03995854e-01, 8.90531465e-01, 1.49392920e-01],\n",
       "       [9.35814168e-01, 7.80842451e-01, 2.87514708e-01, 8.30547775e-01],\n",
       "       [6.16042873e-01, 1.36154507e+00, 1.86244718e-01, 5.03900877e-01],\n",
       "       [5.44638766e-01, 9.22641928e-01, 1.24074150e+00, 6.38402541e-01],\n",
       "       [8.09879042e-01, 1.24486436e+00, 4.16403786e-01, 1.64812575e+00],\n",
       "       [4.15200577e-01, 1.54872038e+00, 1.29561142e+00, 1.37912242e+00],\n",
       "       [1.35051848e+00, 3.73810430e-01, 6.74550196e-01, 1.18697718e+00],\n",
       "       [6.05533683e-01, 1.76479577e+00, 1.35545278e+00, 1.85948550e+00],\n",
       "       [1.63175608e+00, 3.26543937e-01, 4.99261050e-01, 1.63755776e+00],\n",
       "       [1.26606546e-01, 2.74415749e-01, 6.42327927e-01, 1.58039455e-01],\n",
       "       [7.44488528e-01, 1.77830048e+00, 3.28943340e-01, 1.87870003e+00],\n",
       "       [7.43320840e-01, 4.21076922e-01, 9.78360166e-01, 8.41115763e-01],\n",
       "       [1.09228433e+00, 1.43582099e+00, 4.21375221e-01, 1.13798015e+00],\n",
       "       [1.33417085e+00, 1.31238792e+00, 1.11148417e+00, 1.95555812e+00],\n",
       "       [1.07727954e+00, 5.24252922e-01, 1.49787521e-01, 3.22323631e-01],\n",
       "       [5.17781948e-01, 4.27829278e-01, 1.01978880e+00, 4.32326777e-03],\n",
       "       [1.86158622e-01, 1.31914027e+00, 7.61366196e-02, 7.64257669e-01],\n",
       "       [9.11292725e-01, 9.42898996e-01, 1.36502740e+00, 9.07405869e-01],\n",
       "       [1.34917564e+00, 9.02114765e-02, 1.30518604e+00, 8.68976822e-01],\n",
       "       [9.04082253e-02, 5.91776482e-01, 9.36931533e-01, 1.19610408e-01],\n",
       "       [1.05509347e+00, 2.86029801e-01, 9.00106083e-01, 9.37188380e-01],\n",
       "       [8.14549794e-01, 1.39341619e+00, 1.54390703e-01, 1.59048218e+00],\n",
       "       [6.07869059e-01, 4.95352838e-01, 3.74975153e-01, 8.21901240e-01],\n",
       "       [4.34876116e-01, 6.05281194e-01, 5.27524584e-02, 3.11755643e-01],\n",
       "       [1.40405696e+00, 6.57409383e-01, 5.18042030e-01, 1.00347849e+00],\n",
       "       [2.06009314e-01, 1.18598381e+00, 3.43397329e-02, 5.80758971e-01],\n",
       "       [7.74848409e-01, 9.02114765e-02, 8.03439274e-01, 5.72112435e-01],\n",
       "       [1.51965805e+00, 1.37991148e+00, 2.70878810e+00, 1.02269301e+00],\n",
       "       [1.39588315e+00, 1.46283041e+00, 4.53597491e-01, 1.36855443e+00],\n",
       "       [3.09933525e-01, 3.53553362e-01, 7.52804279e-01, 3.41057791e-02],\n",
       "       [1.65394214e+00, 4.48086346e-01, 9.73756984e-01, 1.67598681e+00],\n",
       "       [3.62479475e-01, 1.05093669e+00, 3.43121138e-01, 5.80758971e-01],\n",
       "       [8.24883830e-01, 2.32010953e-01, 3.79946589e-01, 4.27042783e-01],\n",
       "       [1.08311798e+00, 1.29402151e+00, 2.92117889e-01, 3.30970166e-01],\n",
       "       [8.37728396e-01, 2.00139833e-01, 8.95779092e-02, 5.23115400e-01],\n",
       "       [9.18298852e-01, 1.43393033e+00, 2.32276531e-01, 8.11813615e-02],\n",
       "       [7.76016097e-01, 1.33264499e+00, 1.49419267e-01, 1.47519504e+00],\n",
       "       [5.38975481e-01, 3.28434597e-01, 1.61783412e+00, 2.26251013e-01],\n",
       "       [8.26051518e-01, 2.86029801e-01, 6.69947015e-01, 3.88613736e-01],\n",
       "       [4.24366926e-01, 1.17058844e+00, 1.50275459e+00, 3.79967201e-01],\n",
       "       [6.85928986e-01, 1.50982681e-01, 1.97227908e+00, 2.15683025e-01],\n",
       "       [4.34876116e-01, 1.65675807e+00, 9.59579186e-01, 5.14468865e-01],\n",
       "       [1.48792614e-01, 1.24000266e+00, 9.78360166e-01, 5.42329924e-01],\n",
       "       [1.38303858e+00, 1.46958277e+00, 1.12593816e-01, 1.29169634e+00],\n",
       "       [8.25058983e-01, 6.91171163e-01, 1.30942097e+00, 1.03326100e+00],\n",
       "       [1.21273132e+00, 8.93741844e-01, 1.92164409e+00, 1.57126765e+00],\n",
       "       [4.62900623e-01, 6.25538262e-01, 9.04709264e-01, 4.84686354e-01],\n",
       "       [1.89836839e-01, 5.62876398e-01, 1.02862691e+00, 5.52897912e-01],\n",
       "       [5.90353742e-01, 1.33453565e+00, 1.13486833e+00, 4.46257307e-01],\n",
       "       [4.42057396e-01, 1.52873340e-01, 3.93756133e-01, 2.83894584e-01],\n",
       "       [1.66579418e+00, 1.28537849e+00, 9.50372823e-01, 2.18613240e+00],\n",
       "       [1.38283424e-01, 1.24486436e+00, 7.06404211e-01, 6.10541482e-01],\n",
       "       [8.79940308e-01, 1.28051680e+00, 8.85928284e-01, 4.46257307e-01],\n",
       "       [1.74402926e+00, 8.80237132e-01, 3.23815396e+00, 1.87870003e+00],\n",
       "       [1.55486384e+00, 8.88880147e-01, 4.21375221e-01, 1.49392920e-01],\n",
       "       [4.77088029e-01, 4.09462869e-01, 5.82486569e-01, 1.30178396e-01],\n",
       "       [1.06443498e+00, 7.45190011e-01, 1.16248742e+00, 1.28304980e+00],\n",
       "       [1.06755854e-01, 1.56222509e+00, 1.30942097e+00, 9.94831951e-01],\n",
       "       [1.42507534e+00, 8.28108943e-01, 3.93111688e-02, 1.31091086e+00],\n",
       "       [6.61407543e-01, 1.55061104e+00, 3.38517957e-01, 1.02269301e+00],\n",
       "       [1.56403019e+00, 1.54385868e+00, 2.28041604e-01, 1.67598681e+00],\n",
       "       [1.26527727e+00, 2.45515665e-01, 1.15328106e+00, 1.11011909e+00],\n",
       "       [9.19641692e-01, 1.01717491e+00, 1.19434143e+00, 1.19610408e-01],\n",
       "       [1.10530405e+00, 9.95027184e-01, 3.38517957e-01, 1.49440956e+00],\n",
       "       [3.34630122e-01, 5.31005278e-01, 1.29597968e+00, 1.48912557e-02],\n",
       "       [7.30476274e-01, 1.79882765e-01, 9.13915627e-01, 3.60752677e-01],\n",
       "       [8.03865450e-01, 1.58923451e+00, 1.81641536e-01, 1.10963873e-01],\n",
       "       [8.40063771e-01, 7.92456503e-01, 1.01942054e+00, 2.73326596e-01],\n",
       "       [9.15759131e-02, 6.05281194e-01, 2.28041604e-01, 3.50184689e-01],\n",
       "       [8.24883830e-01, 1.51684926e+00, 7.25185191e-01, 8.88191346e-01],\n",
       "       [2.49213762e-01, 9.20751268e-01, 2.23926360e+00, 3.60752677e-01],\n",
       "       [1.49046586e+00, 4.90491142e-01, 3.79946589e-01, 1.42619800e+00],\n",
       "       [6.70544700e-02, 2.38763309e-01, 7.20213755e-01, 2.83894584e-01],\n",
       "       [1.49747198e+00, 1.05606848e-01, 9.13547372e-01, 1.34933991e+00],\n",
       "       [8.98623313e-01, 1.40881156e+00, 6.88359740e-01, 4.65471830e-01],\n",
       "       [2.79573643e-01, 7.65447079e-01, 8.35661544e-01, 2.26251013e-01],\n",
       "       [9.62846140e-01, 6.10142891e-01, 2.00910454e+00, 1.09090457e+00],\n",
       "       [6.98773552e-01, 7.74090095e-01, 2.14232060e-01, 6.57617064e-01],\n",
       "       [1.62591764e+00, 1.05579839e+00, 9.22753735e-01, 1.42619800e+00],\n",
       "       [7.80511695e-01, 1.57086811e+00, 9.82963347e-01, 1.00347849e+00],\n",
       "       [8.55418865e-01, 1.73778635e+00, 1.25915423e+00, 2.05163074e+00],\n",
       "       [1.02105537e+00, 7.60585383e-01, 5.77515133e-01, 8.30547775e-01],\n",
       "       [1.70882347e+00, 1.10306488e+00, 1.00597925e+00, 2.38692417e+00],\n",
       "       [1.37971067e+00, 1.37504978e+00, 5.72911952e-01, 2.54112072e-01],\n",
       "       [1.61891151e+00, 2.65772733e-01, 1.30978922e+00, 1.59912871e+00],\n",
       "       [8.49580427e-01, 6.91171163e-01, 6.69578760e-01, 1.07169004e+00],\n",
       "       [1.28612050e+00, 1.03554132e+00, 1.61323094e+00, 6.19188018e-01],\n",
       "       [1.15300409e+00, 1.60273923e+00, 1.01518562e+00, 4.65471830e-01],\n",
       "       [1.41806922e+00, 1.06255074e+00, 9.78360166e-01, 8.68976822e-01],\n",
       "       [1.47896413e+00, 3.80562786e-01, 1.34164324e+00, 1.30226433e+00],\n",
       "       [1.21489154e+00, 1.77992105e-01, 4.62803854e-01, 8.49762299e-01],\n",
       "       [4.42057396e-01, 1.39341619e+00, 1.32820195e+00, 1.28304980e+00],\n",
       "       [8.59914463e-01, 4.22967582e-01, 8.12645637e-01, 5.99973494e-01],\n",
       "       [5.44813920e-01, 8.19465927e-01, 2.07354907e+00, 9.94831951e-01],\n",
       "       [8.57754241e-01, 6.70914095e-01, 3.38149702e-01, 1.16776266e+00],\n",
       "       [4.95595880e-01, 1.18598381e+00, 1.77038355e-01, 6.96046111e-01],\n",
       "       [5.93681653e-01, 5.71519414e-01, 3.84181516e-01, 5.03900877e-01],\n",
       "       [7.87313476e-02, 1.44257334e+00, 9.92169710e-01, 7.15260635e-01],\n",
       "       [1.08662104e+00, 1.07794612e+00, 1.00597925e+00, 1.58039455e-01],\n",
       "       [1.12281936e+00, 1.73778635e+00, 6.32753309e-01, 2.18613240e+00],\n",
       "       [1.27327593e+00, 1.15033137e+00, 8.58677450e-01, 5.99973494e-01],\n",
       "       [1.19504085e+00, 1.71239749e-01, 4.58200672e-01, 7.53689682e-01],\n",
       "       [1.56070228e+00, 6.32290618e-01, 2.96721070e-01, 3.99181724e-01],\n",
       "       [3.04095087e-01, 1.00367020e+00, 8.35293289e-01, 4.65471830e-01],\n",
       "       [5.90353742e-01, 2.43084817e-03, 7.52804279e-01, 4.95254341e-01],\n",
       "       [2.83251860e-01, 1.10981724e+00, 3.28943340e-01, 9.56402904e-01],\n",
       "       [4.75920341e-01, 1.46120984e-01, 9.69153803e-01, 3.03109107e-01],\n",
       "       [1.66912209e+00, 7.87594807e-01, 1.14407469e+00, 2.07949180e+00],\n",
       "       [6.20538471e-01, 1.36640677e+00, 9.18150553e-01, 2.45465537e-01],\n",
       "       [3.21989902e-02, 1.48308748e+00, 2.87882962e-01, 7.53689682e-01],\n",
       "       [1.58037782e+00, 9.20751268e-01, 6.74181942e-01, 1.29169634e+00],\n",
       "       [1.79152496e-01, 3.28434597e-01, 1.86244718e-01, 2.15683025e-01],\n",
       "       [2.97264113e-01, 3.48691665e-01, 6.72064478e-03, 7.25348259e-02],\n",
       "       [7.16288868e-01, 8.46475352e-01, 8.62912377e-01, 1.38824932e-01],\n",
       "       [4.82926468e-01, 3.48691665e-01, 2.28041604e-01, 1.68607443e-01],\n",
       "       [1.92172214e-01, 9.13998912e-01, 1.06582061e+00, 7.64257669e-01],\n",
       "       [3.48467222e-01, 5.78271770e-01, 1.15788424e+00, 4.07828260e-01],\n",
       "       [1.02123053e+00, 1.34128800e+00, 2.49704176e+00, 4.07828260e-01],\n",
       "       [1.50798117e+00, 9.68017760e-01, 4.12168859e-01, 1.15719467e+00],\n",
       "       [6.97781017e-01, 1.21974559e+00, 5.13438849e-01, 3.50184689e-01],\n",
       "       [7.98202165e-01, 2.26879163e-02, 1.24497643e+00, 5.91326959e-01],\n",
       "       [1.60273904e+00, 8.55118367e-01, 1.11185242e+00, 1.87821967e-01],\n",
       "       [1.13315340e+00, 7.87594807e-01, 5.59470662e-01, 1.08033658e+00],\n",
       "       [2.03849092e-01, 1.59625696e-01, 7.75451931e-01, 9.17493494e-02],\n",
       "       [1.48813048e+00, 2.13644545e-01, 6.23915201e-01, 1.23405277e+00],\n",
       "       [2.49388915e-01, 1.09145083e+00, 8.17248818e-01, 4.46257307e-01],\n",
       "       [8.79940308e-01, 1.34128800e+00, 8.03439274e-01, 4.84686354e-01],\n",
       "       [1.51633014e+00, 1.73103399e+00, 5.17673775e-01, 2.49356478e+00],\n",
       "       [1.18353913e+00, 4.68343414e-01, 4.72010216e-01, 1.18697718e+00],\n",
       "       [2.70407294e-01, 1.04418434e+00, 2.13863806e-01, 4.46257307e-01],\n",
       "       [1.51399477e+00, 1.41556392e+00, 3.15502050e-01, 4.27042783e-01],\n",
       "       [2.16693657e-01, 8.95632503e-01, 5.96296113e-01, 2.73326596e-01],\n",
       "       [1.11601758e-01, 1.39530685e+00, 1.02439198e+00, 6.76831588e-01],\n",
       "       [8.34400486e-01, 1.20624088e+00, 1.45184340e-01, 3.50184689e-01],\n",
       "       [1.06075676e+00, 1.18598381e+00, 3.93111688e-02, 1.02269301e+00],\n",
       "       [1.64127273e+00, 1.33264499e+00, 1.89862818e+00, 2.33984859e+00],\n",
       "       [1.24659427e+00, 1.32616272e-01, 2.55016247e-02, 6.87399576e-01],\n",
       "       [6.76762637e-01, 1.47444446e+00, 5.04232486e-01, 1.64812575e+00],\n",
       "       [8.80728498e-02, 1.42906863e+00, 1.82009791e-01, 7.15260635e-01],\n",
       "       [5.14454038e-01, 3.67058074e-01, 5.68677025e-01, 6.29756005e-01],\n",
       "       [1.62258973e+00, 6.32290618e-01, 1.23613832e+00, 3.60752677e-01],\n",
       "       [1.49863967e+00, 7.53833027e-01, 3.29311594e-01, 1.40698348e+00],\n",
       "       [1.25576062e+00, 1.20435022e+00, 1.13947151e+00, 6.19188018e-01],\n",
       "       [8.35393020e-01, 8.41613655e-01, 1.13026515e+00, 7.92118728e-01],\n",
       "       [1.51615499e+00, 1.29402151e+00, 4.81492770e-02, 1.56069967e+00],\n",
       "       [2.30705910e-01, 1.26512143e+00, 1.24074150e+00, 1.07169004e+00],\n",
       "       [3.10313024e-02, 8.32970639e-01, 1.13026515e+00, 6.29756005e-01],\n",
       "       [1.27094056e+00, 1.32103093e+00, 7.71217005e-01, 1.23405277e+00],\n",
       "       [6.17035408e-01, 1.24000266e+00, 1.03359834e+00, 8.30547775e-01],\n",
       "       [3.49810063e-01, 9.42898996e-01, 1.11185242e+00, 2.34897549e-01],\n",
       "       [1.59456522e+00, 1.26512143e+00, 1.64085003e+00, 2.20534693e+00],\n",
       "       [9.93206022e-01, 9.90165488e-01, 1.00597925e+00, 1.19610408e-01]])"
      ]
     },
     "execution_count": 22,
     "metadata": {},
     "output_type": "execute_result"
    }
   ],
   "source": [
    "from scipy.stats import zscore\n",
    "z=np.abs(zscore(df))\n",
    "z"
   ]
  },
  {
   "cell_type": "code",
   "execution_count": 23,
   "metadata": {},
   "outputs": [],
   "source": [
    "df_new=df[(z<3).all(axis=1)] # removed outliers"
   ]
  },
  {
   "cell_type": "code",
   "execution_count": 24,
   "metadata": {},
   "outputs": [
    {
     "data": {
      "text/plain": [
       "(198, 4)"
      ]
     },
     "execution_count": 24,
     "metadata": {},
     "output_type": "execute_result"
    }
   ],
   "source": [
    "df_new.shape"
   ]
  },
  {
   "cell_type": "code",
   "execution_count": 25,
   "metadata": {},
   "outputs": [
    {
     "data": {
      "text/plain": [
       "0.99"
      ]
     },
     "execution_count": 25,
     "metadata": {},
     "output_type": "execute_result"
    }
   ],
   "source": [
    "198/200\n"
   ]
  },
  {
   "cell_type": "markdown",
   "metadata": {},
   "source": [
    "Observation - lost 1 % of data after removing outler"
   ]
  },
  {
   "cell_type": "code",
   "execution_count": 26,
   "metadata": {},
   "outputs": [
    {
     "data": {
      "text/plain": [
       "<AxesSubplot:>"
      ]
     },
     "execution_count": 26,
     "metadata": {},
     "output_type": "execute_result"
    },
    {
     "data": {
      "image/png": "[encoded data removed]",
      "text/plain": [
       "<Figure size 432x288 with 1 Axes>"
      ]
     },
     "metadata": {
      "needs_background": "light"
     },
     "output_type": "display_data"
    }
   ],
   "source": [
    "df_new[\"newspaper\"].plot.box()"
   ]
  },
  {
   "cell_type": "code",
   "execution_count": 27,
   "metadata": {},
   "outputs": [
    {
     "data": {
      "text/plain": [
       "TV          -0.069853\n",
       "radio        0.094175\n",
       "newspaper    0.894720\n",
       "sales        0.407571\n",
       "dtype: float64"
      ]
     },
     "execution_count": 27,
     "metadata": {},
     "output_type": "execute_result"
    }
   ],
   "source": [
    "df.skew()"
   ]
  },
  {
   "cell_type": "code",
   "execution_count": 28,
   "metadata": {},
   "outputs": [
    {
     "data": {
      "text/plain": [
       "TV          -0.082332\n",
       "radio        0.114842\n",
       "newspaper    0.650112\n",
       "sales        0.407130\n",
       "dtype: float64"
      ]
     },
     "execution_count": 28,
     "metadata": {},
     "output_type": "execute_result"
    }
   ],
   "source": [
    "df_new.skew()"
   ]
  },
  {
   "cell_type": "markdown",
   "metadata": {},
   "source": [
    "observation-skewness is not much  yet newspaper to be treated for skewness "
   ]
  },
  {
   "cell_type": "code",
   "execution_count": 29,
   "metadata": {},
   "outputs": [],
   "source": [
    "df_new[\"newspaper\"]=np.sqrt(df_new[\"newspaper\"])\n"
   ]
  },
  {
   "cell_type": "code",
   "execution_count": 30,
   "metadata": {},
   "outputs": [
    {
     "data": {
      "text/plain": [
       "<AxesSubplot:xlabel='newspaper', ylabel='Density'>"
      ]
     },
     "execution_count": 30,
     "metadata": {},
     "output_type": "execute_result"
    },
    {
     "data": {
      "image/png": "[encoded data removed]",
      "text/plain": [
       "<Figure size 432x288 with 1 Axes>"
      ]
     },
     "metadata": {
      "needs_background": "light"
     },
     "output_type": "display_data"
    }
   ],
   "source": [
    "sns.distplot(df_new['newspaper'],color=\"r\")"
   ]
  },
  {
   "cell_type": "markdown",
   "metadata": {},
   "source": [
    "observation - skweness of newspaper is somehow treated "
   ]
  },
  {
   "cell_type": "code",
   "execution_count": 31,
   "metadata": {},
   "outputs": [
    {
     "data": {
      "text/plain": [
       "<AxesSubplot:xlabel='TV', ylabel='Density'>"
      ]
     },
     "execution_count": 31,
     "metadata": {},
     "output_type": "execute_result"
    },
    {
     "data": {
      "image/png": "[encoded data removed]",
      "text/plain": [
       "<Figure size 432x288 with 1 Axes>"
      ]
     },
     "metadata": {
      "needs_background": "light"
     },
     "output_type": "display_data"
    }
   ],
   "source": [
    "sns.distplot(df_new['TV'],color=\"r\")"
   ]
  },
  {
   "cell_type": "code",
   "execution_count": 32,
   "metadata": {},
   "outputs": [],
   "source": [
    "cor=df_new.corr()"
   ]
  },
  {
   "cell_type": "code",
   "execution_count": 33,
   "metadata": {},
   "outputs": [
    {
     "data": {
      "text/plain": [
       "TV          -0.082332\n",
       "radio        0.114842\n",
       "newspaper   -0.040649\n",
       "sales        0.407130\n",
       "dtype: float64"
      ]
     },
     "execution_count": 33,
     "metadata": {},
     "output_type": "execute_result"
    }
   ],
   "source": [
    "df_new.skew()"
   ]
  },
  {
   "cell_type": "code",
   "execution_count": 34,
   "metadata": {},
   "outputs": [
    {
     "data": {
      "text/plain": [
       "<AxesSubplot:>"
      ]
     },
     "execution_count": 34,
     "metadata": {},
     "output_type": "execute_result"
    },
    {
     "data": {
      "image/png": "[encoded data removed]",
      "text/plain": [
       "<Figure size 432x288 with 2 Axes>"
      ]
     },
     "metadata": {
      "needs_background": "light"
     },
     "output_type": "display_data"
    }
   ],
   "source": [
    "sns.heatmap(cor , annot=True ,cmap=\"BuPu_r\")"
   ]
  },
  {
   "cell_type": "markdown",
   "metadata": {},
   "source": [
    "Observation-tv and radio are highly negatively corelated . tv is hhighly corelated to output \n"
   ]
  },
  {
   "cell_type": "code",
   "execution_count": 35,
   "metadata": {},
   "outputs": [
    {
     "data": {
      "text/plain": [
       "<AxesSubplot:>"
      ]
     },
     "execution_count": 35,
     "metadata": {},
     "output_type": "execute_result"
    },
    {
     "data": {
      "image/png": "[encoded data removed]",
      "text/plain": [
       "<Figure size 720x720 with 1 Axes>"
      ]
     },
     "metadata": {
      "needs_background": "light"
     },
     "output_type": "display_data"
    }
   ],
   "source": [
    "df_new.groupby('sales')[['TV', 'radio', 'newspaper']].mean().T.plot(kind='bar', figsize=(10,10))"
   ]
  },
  {
   "cell_type": "markdown",
   "metadata": {},
   "source": [
    "observation-  tv is giving high sales and differnce between other souce sale and tv sales is high . "
   ]
  },
  {
   "cell_type": "code",
   "execution_count": 36,
   "metadata": {},
   "outputs": [
    {
     "data": {
      "text/plain": [
       "Index(['TV', 'radio', 'newspaper', 'sales'], dtype='object')"
      ]
     },
     "execution_count": 36,
     "metadata": {},
     "output_type": "execute_result"
    }
   ],
   "source": [
    "df.keys()"
   ]
  },
  {
   "cell_type": "code",
   "execution_count": 37,
   "metadata": {},
   "outputs": [],
   "source": [
    "x=df_new.drop(\"sales\",axis=1)\n",
    "y=df_new[\"sales\"]"
   ]
  },
  {
   "cell_type": "code",
   "execution_count": 38,
   "metadata": {},
   "outputs": [
    {
     "data": {
      "text/plain": [
       "array([[ 9.78697339e-01,  9.89521352e-01,  1.63669060e+00],\n",
       "       [-1.19901165e+00,  1.09070498e+00,  8.24807889e-01],\n",
       "       [-1.51933199e+00,  1.53591293e+00,  1.63973373e+00],\n",
       "       [ 5.64563564e-02,  1.22561648e+00,  1.29728802e+00],\n",
       "       [ 4.00243389e-01, -8.31783915e-01,  1.29397566e+00],\n",
       "       [-1.61906543e+00,  1.73828018e+00,  1.80970327e+00],\n",
       "       [-1.04647815e+00,  6.52242599e-01, -1.21277595e-01],\n",
       "       [-3.10797368e-01, -2.38173309e-01, -8.51517342e-01],\n",
       "       [-1.62023876e+00, -1.41864895e+00, -2.07003868e+00],\n",
       "       [ 6.23176960e-01, -1.38492107e+00, -2.44520695e-01],\n",
       "       [-9.45571378e-01, -1.16906267e+00, -8.49785485e-02],\n",
       "       [ 7.98003813e-01,  5.86319933e-02, -1.56356175e+00],\n",
       "       [-1.44189191e+00,  8.07390825e-01,  1.53500409e+00],\n",
       "       [-5.77144318e-01, -1.04764232e+00, -1.21749539e+00],\n",
       "       [ 6.73630347e-01,  6.58988174e-01,  8.58578063e-01],\n",
       "       [ 5.71550238e-01,  1.65733328e+00,  1.10721196e+00],\n",
       "       [ 1.58061798e+00,  1.11094170e+00,  1.20683655e+00],\n",
       "       [-9.09198006e-01, -1.77463134e-01, -4.09883309e-01],\n",
       "       [ 7.17630394e-03,  5.18864183e-02, -3.63031787e-01],\n",
       "       [ 8.41417193e-01,  3.08218271e-01,  1.12457994e+00],\n",
       "       [ 1.06435076e+00, -1.21628169e+00, -1.21277595e-01],\n",
       "       [-1.56626537e+00, -4.87759587e-01,  9.90463015e-01],\n",
       "       [ 9.57577316e-01, -4.20303836e-01,  1.59339442e-02],\n",
       "       [-9.90158092e-01, -7.10363564e-01, -4.09883309e-01],\n",
       "       [ 1.36355108e+00, -1.32421089e+00, -3.39974042e-01],\n",
       "       [-4.44504177e-02,  4.16147472e-01, -7.78700851e-01],\n",
       "       [ 1.09603080e+00, -4.33794986e-01, -1.52823719e-01],\n",
       "       [ 1.19811091e+00,  2.67744820e-01, -1.52823719e-01],\n",
       "       [-8.92771321e-01, -4.81014012e-01,  6.58599590e-01],\n",
       "       [ 1.71555146e+00,  3.48691721e-01,  7.52390467e-01],\n",
       "       [-3.96450793e-01, -3.86575961e-01,  5.70169760e-01],\n",
       "       [-5.80664322e-01, -1.45912240e+00,  1.97572788e-01],\n",
       "       [ 1.39523112e+00, -2.11191009e-01, -2.29910677e+00],\n",
       "       [-5.98264341e-01, -1.46586797e+00, -1.19874940e+00],\n",
       "       [ 1.68973810e+00, -1.28373744e+00, -1.09989430e+00],\n",
       "       [ 1.41048447e+00,  1.39425586e+00, -1.44399876e+00],\n",
       "       [-8.44664603e-01,  1.77200806e+00,  8.47358347e-01],\n",
       "       [-1.21543833e+00,  2.40762520e-01,  4.24119778e-01],\n",
       "       [ 9.54057313e-01,  9.82775777e-01,  2.88550568e-01],\n",
       "       [ 6.54856994e-01, -5.60427827e-02,  2.70587593e-01],\n",
       "       [ 3.55656675e-01,  6.92716049e-01,  5.74243141e-01],\n",
       "       [ 1.72376480e+00,  3.08218271e-01, -1.89700550e+00],\n",
       "       [ 7.06483716e-01, -9.93677716e-01,  2.58099783e-02],\n",
       "       [-1.42663856e+00,  1.73306769e-01,  7.56241141e-01],\n",
       "       [ 3.33363318e-01, -4.25516326e-02,  2.66079113e-01],\n",
       "       [-6.68664416e-01, -8.92494090e-01,  4.49657561e-01],\n",
       "       [ 1.09368413e+00,  1.23910763e+00, -3.98075961e-01],\n",
       "       [ 9.44670636e-01, -4.94505162e-01,  1.00123399e+00],\n",
       "       [-9.36184701e-01, -7.71073739e-01,  4.95925574e-01],\n",
       "       [ 6.23176960e-01, -1.35119319e+00,  4.02671073e-01],\n",
       "       [-5.43117616e-01, -9.12730816e-01, -1.61554320e+00],\n",
       "       [ 8.17950501e-01,  1.25259878e+00,  6.10669308e-01],\n",
       "       [ 4.21363412e-01,  1.55614966e+00,  1.30390426e+00],\n",
       "       [ 1.36120441e+00,  3.82419596e-01, -5.56948772e-01],\n",
       "       [ 6.12616949e-01,  1.77200806e+00,  1.34663783e+00],\n",
       "       [-1.63549211e+00,  3.35200571e-01,  6.82300384e-01],\n",
       "       [-1.23063835e-01, -2.65155610e-01, -5.12971709e-01],\n",
       "       [ 7.52243764e-01,  1.78549921e+00,  5.33269242e-01],\n",
       "       [ 7.51070430e-01,  4.29638622e-01, -1.03196856e+00],\n",
       "       [-1.09341154e+00, -1.42539452e+00, -2.33546540e-01],\n",
       "       [ 1.34477773e+00,  1.32005453e+00,  1.16935983e+00],\n",
       "       [ 1.08664412e+00, -5.14741887e-01,  6.97960611e-02],\n",
       "       [-5.16130920e-01,  4.36384197e-01, -1.10860601e+00],\n",
       "       [-1.82903899e-01,  1.32680011e+00,  1.46239552e-01],\n",
       "       [-9.11544675e-01, -9.32967541e-01, -2.09602940e+00],\n",
       "       [-1.35154514e+00,  9.91054437e-02, -1.82528892e+00],\n",
       "       [-8.66904627e-02, -5.82197638e-01, -9.58958009e-01],\n",
       "       [ 1.06435076e+00,  2.94727121e-01, -8.96721665e-01],\n",
       "       [ 8.22643839e-01,  1.40100143e+00,  6.49448899e-02],\n",
       "       [ 6.14963618e-01,  5.03839947e-01,  5.74243141e-01],\n",
       "       [-4.32824165e-01, -5.95688788e-01,  2.75088945e-01],\n",
       "       [-1.40669187e+00,  6.65733749e-01, -3.51473046e-01],\n",
       "       [-2.02850586e-01, -1.17580824e+00,  2.57040634e-01],\n",
       "       [ 7.82750463e-01,  9.91054437e-02, -7.43376950e-01],\n",
       "       [-1.52285199e+00,  1.38751028e+00,  2.21230345e+00],\n",
       "       [-1.39847853e+00, -1.45237682e+00, -2.72184721e-01],\n",
       "       [-3.07277364e-01,  3.62182871e-01, -6.67964297e-01],\n",
       "       [-1.65778547e+00,  4.56620922e-01, -1.02368674e+00],\n",
       "       [-3.60077421e-01, -1.04089674e+00, -1.42262920e-01],\n",
       "       [-8.24717916e-01,  2.40762520e-01, -1.84785890e-01],\n",
       "       [ 1.09251079e+00, -1.28373744e+00,  5.00097255e-01],\n",
       "       [-8.37624596e-01, -1.90954284e-01,  3.10847139e-01],\n",
       "       [-9.18584682e-01,  1.44147488e+00,  4.45416251e-01],\n",
       "       [ 7.83923798e-01,  1.34029126e+00,  3.68028190e-01],\n",
       "       [ 5.45736878e-01, -3.19120210e-01,  1.52876032e+00],\n",
       "       [-8.25891250e-01,  2.94727121e-01, -5.50607887e-01],\n",
       "       [-4.22264154e-01,  1.17839745e+00,  1.44989635e+00],\n",
       "       [-6.85091100e-01,  1.59815619e-01,  1.76266471e+00],\n",
       "       [-4.32824165e-01,  1.66407886e+00,  1.05460963e+00],\n",
       "       [-1.45357192e-01, -1.22977284e+00, -1.03196856e+00],\n",
       "       [-1.38557185e+00, -1.45912240e+00,  3.32972847e-01],\n",
       "       [ 8.33203850e-01,  6.99461624e-01,  1.31380751e+00],\n",
       "       [ 1.22275093e+00,  9.01828876e-01,  1.73002768e+00],\n",
       "       [-4.60984195e-01, -6.15925513e-01, -9.04374525e-01],\n",
       "       [ 1.94909837e-01,  5.71295698e-01,  1.10721196e+00],\n",
       "       [ 5.97363599e-01, -1.32421089e+00, -1.34628742e+00],\n",
       "       [ 4.48350107e-01, -1.43735259e-01, -2.00928232e-01],\n",
       "       [ 1.67800475e+00,  1.29307223e+00,  1.04753830e+00],\n",
       "       [-1.34797181e-01,  1.25259878e+00,  8.54842234e-01],\n",
       "       [ 8.88350576e-01, -1.27024629e+00,  9.97647269e-01],\n",
       "       [ 1.56653796e+00, -8.79002940e-01, -2.33546540e-01],\n",
       "       [ 4.83550145e-01, -4.00067111e-01, -4.33693178e-01],\n",
       "       [ 1.07373744e+00,  7.53426225e-01, -1.41051815e+00],\n",
       "       [-1.03117147e-01,  1.56964081e+00,  1.31380751e+00],\n",
       "       [-1.42781189e+00, -8.18292765e-01,  1.83667495e-01],\n",
       "       [-6.60451074e-01, -1.54006930e+00, -1.36999665e-01],\n",
       "       [-1.56743871e+00, -1.53332372e+00, -1.39225166e-02],\n",
       "       [ 1.27555099e+00,  2.54253670e-01, -1.38872192e+00],\n",
       "       [ 9.28243952e-01, -1.00716887e+00,  1.23049329e+00],\n",
       "       [ 1.11480415e+00,  1.00301250e+00, -1.36999665e-01],\n",
       "       [ 3.40403326e-01, -5.21487462e-01, -1.79188492e+00],\n",
       "       [ 7.38163749e-01, -1.70717559e-01, -9.19786292e-01],\n",
       "       [-8.03597893e-01,  1.59662311e+00,  3.98362775e-01],\n",
       "       [-8.39971265e-01,  8.00645250e-01,  1.10024180e+00],\n",
       "       [-8.78637973e-02, -5.95688788e-01, -1.39225166e-02],\n",
       "       [-8.24717916e-01, -1.50634142e+00, -6.28059954e-01],\n",
       "       [-2.46263966e-01,  9.28811176e-01,  1.93084453e+00],\n",
       "       [-1.49351863e+00, -4.81014012e-01, -1.84785890e-01],\n",
       "       [-6.32237711e-02,  2.47508095e-01,  8.66037558e-01],\n",
       "       [-1.50055864e+00, -9.65162331e-02,  1.01911391e+00],\n",
       "       [ 9.07123929e-01, -1.39841222e+00, -5.76092017e-01],\n",
       "       [-2.76770665e-01,  7.73662950e-01, -7.93026297e-01],\n",
       "       [ 9.71657331e-01,  6.18514724e-01,  1.78624739e+00],\n",
       "       [-6.97997781e-01, -7.64328164e-01,  1.04894337e-03],\n",
       "       [-1.62962544e+00,  1.06372268e+00,  1.02624103e+00],\n",
       "       [-7.80131201e-01, -1.56030602e+00, -1.04029502e+00],\n",
       "       [ 8.63710550e-01,  1.74502576e+00, -1.67050213e+00],\n",
       "       [-1.02183813e+00, -7.50837014e-01,  7.48535335e-01],\n",
       "       [-1.71293220e+00,  1.11094170e+00, -1.08262329e+00],\n",
       "       [ 1.39053778e+00, -1.36468434e+00,  7.44675727e-01],\n",
       "       [-1.62258543e+00,  2.74490395e-01, -1.84256081e+00],\n",
       "       [ 8.57843877e-01,  6.99461624e-01,  8.24807889e-01],\n",
       "       [-1.28818508e+00,  1.04348595e+00,  1.52563488e+00],\n",
       "       [-1.15442493e+00,  1.61011426e+00, -1.09989430e+00],\n",
       "       [-1.42077188e+00,  1.07046825e+00, -1.03196856e+00],\n",
       "       [ 1.49027122e+00,  3.89165171e-01,  1.33681765e+00],\n",
       "       [-1.21661167e+00,  1.86797920e-01, -2.83343774e-01],\n",
       "       [ 4.48350107e-01,  1.40100143e+00, -1.91615048e+00],\n",
       "       [-8.59917953e-01, -4.13558261e-01, -7.57424197e-01],\n",
       "       [ 5.51603551e-01,  8.27627550e-01,  1.82721320e+00],\n",
       "       [ 8.66057219e-01,  6.79224899e-01,  5.41507097e-01],\n",
       "       [-4.93837563e-01, -1.17580824e+00,  3.94048228e-01],\n",
       "       [-5.92397668e-01, -5.61960912e-01,  5.82374145e-01],\n",
       "       [-7.49571169e-02, -1.43214010e+00, -1.05708482e+00],\n",
       "       [ 1.09603080e+00, -1.06787904e+00, -1.08262329e+00],\n",
       "       [ 1.13240417e+00,  1.74502576e+00,  7.94505962e-01],\n",
       "       [-1.27527840e+00,  1.15816073e+00, -8.29353714e-01],\n",
       "       [-1.19666498e+00,  1.80052344e-01, -2.77757477e-01],\n",
       "       [ 1.57240464e+00, -6.22671088e-01,  5.04263286e-01],\n",
       "       [-3.01410691e-01, -9.93677716e-01,  9.57953165e-01],\n",
       "       [ 5.97363599e-01,  1.14129679e-02, -6.67964297e-01],\n",
       "       [ 2.88776604e-01,  1.11768728e+00,  5.33269242e-01],\n",
       "       [ 4.82376810e-01, -1.36989683e-01, -1.01544887e+00],\n",
       "       [-1.67303882e+00, -7.77819314e-01, -1.36731851e+00],\n",
       "       [-6.19384363e-01,  1.37401913e+00,  1.02267923e+00],\n",
       "       [ 3.65096685e-02, -1.47261355e+00, -7.98360517e-02],\n",
       "       [-1.58386539e+00,  9.28811176e-01,  8.28576670e-01],\n",
       "       [-1.75863891e-01, -3.19120210e-01,  4.02671073e-01],\n",
       "       [ 3.02856619e-01, -3.39356935e-01,  2.29750531e-01],\n",
       "       [-7.15597799e-01,  8.54609851e-01,  9.79659420e-01],\n",
       "       [ 4.89416818e-01, -3.39356935e-01, -1.39225166e-02],\n",
       "       [ 1.97256506e-01,  9.22065601e-01, -1.19874940e+00],\n",
       "       [-3.45997406e-01, -5.68706487e-01, -1.39956958e+00],\n",
       "       [ 1.03032406e+00, -1.33095647e+00,  2.08747422e+00],\n",
       "       [-1.51111865e+00,  9.76030202e-01, -2.22623548e-01],\n",
       "       [ 7.05310381e-01, -1.20953612e+00, -3.45716135e-01],\n",
       "       [ 8.06217155e-01,  3.16496931e-02,  1.26737403e+00],\n",
       "       [ 1.61464468e+00, -8.45275065e-01, -1.29521906e+00],\n",
       "       [-1.13447825e+00, -7.77819314e-01, -4.03971613e-01],\n",
       "       [ 2.08989852e-01, -1.50480834e-01,  9.10459436e-01],\n",
       "       [-1.49117196e+00, -2.04445434e-01, -4.88257728e-01],\n",
       "       [ 2.54749901e-01, -1.08137019e+00, -7.64488656e-01],\n",
       "       [ 8.88350576e-01, -1.33095647e+00, -7.43376950e-01],\n",
       "       [ 1.52781792e+00,  1.73828018e+00,  6.98005613e-01],\n",
       "       [ 1.19341757e+00,  4.76857647e-01, -2.94557396e-01],\n",
       "       [ 2.75869923e-01, -1.03415117e+00,  4.28391148e-01],\n",
       "       [ 1.52547125e+00, -1.40515780e+00, -1.10851909e-01],\n",
       "       [ 2.21896533e-01, -8.85748515e-01, -4.51725665e-01],\n",
       "       [ 1.16296420e-01, -1.38492107e+00, -1.11736972e+00],\n",
       "       [ 8.42590527e-01, -1.19604497e+00,  7.46383555e-02],\n",
       "       [-1.06173150e+00, -1.17580824e+00,  1.83667495e-01],\n",
       "       [ 1.65336472e+00,  1.34029126e+00,  1.71511062e+00],\n",
       "       [ 1.25677764e+00, -1.23498533e-01,  1.97572788e-01],\n",
       "       [ 6.84190358e-01,  1.48194833e+00, -3.34246653e-01],\n",
       "       [-8.43437935e-02, -1.41864895e+00,  3.56486734e-02],\n",
       "       [ 5.21096851e-01,  3.75674021e-01, -4.15811178e-01],\n",
       "       [ 1.63459137e+00, -6.22671088e-01, -1.60228778e+00],\n",
       "       [-1.50173197e+00, -7.44091439e-01, -1.26507075e-01],\n",
       "       [-1.25767838e+00,  1.21212533e+00, -1.35675764e+00],\n",
       "       [-8.35277927e-01, -8.31783915e-01, -1.33590556e+00],\n",
       "       [-1.51933199e+00, -1.28373744e+00,  2.70587593e-01],\n",
       "       [ 2.35976548e-01,  1.27283550e+00, -1.61554320e+00],\n",
       "       [ 3.53363339e-02,  8.41118701e-01, -1.33590556e+00],\n",
       "       [-1.27293173e+00, -1.31071974e+00, -6.95037318e-01],\n",
       "       [-6.15864360e-01, -1.22977284e+00, -1.13505699e+00],\n",
       "       [ 3.55656675e-01, -9.32967541e-01, -1.29521906e+00],\n",
       "       [ 1.60643134e+00,  1.27283550e+00,  1.54435201e+00],\n",
       "       [ 1.00216403e+00, -9.80186566e-01, -1.08262329e+00]])"
      ]
     },
     "execution_count": 38,
     "metadata": {},
     "output_type": "execute_result"
    }
   ],
   "source": [
    "SCL=StandardScaler()\n",
    "x=SCL.fit_transform(x)\n",
    "x"
   ]
  },
  {
   "cell_type": "markdown",
   "metadata": {},
   "source": [
    "### train test split"
   ]
  },
  {
   "cell_type": "code",
   "execution_count": 39,
   "metadata": {},
   "outputs": [],
   "source": [
    "from sklearn.model_selection import train_test_split\n",
    "x_train,x_test,y_train,y_test=train_test_split(x,y,test_size=0.33,random_state=42)"
   ]
  },
  {
   "cell_type": "code",
   "execution_count": 40,
   "metadata": {},
   "outputs": [
    {
     "data": {
      "text/plain": [
       "(132, 3)"
      ]
     },
     "execution_count": 40,
     "metadata": {},
     "output_type": "execute_result"
    }
   ],
   "source": [
    "x_train.shape"
   ]
  },
  {
   "cell_type": "code",
   "execution_count": 41,
   "metadata": {},
   "outputs": [
    {
     "data": {
      "text/plain": [
       "(66, 3)"
      ]
     },
     "execution_count": 41,
     "metadata": {},
     "output_type": "execute_result"
    }
   ],
   "source": [
    "x_test.shape"
   ]
  },
  {
   "cell_type": "code",
   "execution_count": 42,
   "metadata": {},
   "outputs": [
    {
     "data": {
      "text/plain": [
       "(132,)"
      ]
     },
     "execution_count": 42,
     "metadata": {},
     "output_type": "execute_result"
    }
   ],
   "source": [
    "y_train.shape"
   ]
  },
  {
   "cell_type": "code",
   "execution_count": 43,
   "metadata": {},
   "outputs": [
    {
     "name": "stdout",
     "output_type": "stream",
     "text": [
      "best accuracy  is  0.9238019178213818 with random state  10\n"
     ]
    }
   ],
   "source": [
    "#saving best random state \n",
    "maxscor=0\n",
    "maxRS=0\n",
    "for i in range (1,200):\n",
    "    x_train,x_test,y_train,y_test=train_test_split(x,y,test_size=0.30,random_state=i)\n",
    "    from sklearn.linear_model import LinearRegression\n",
    "    lm=LinearRegression()\n",
    "    lm.fit(x_train,y_train)\n",
    "    pred=lm.predict(x_test)\n",
    "    sco=lm.score(x_train,y_train)\n",
    "    if sco>maxscor:\n",
    "        maxscor=sco\n",
    "        maxRS=i\n",
    "\n",
    "print(\"best accuracy  is \",maxscor, \"with random state \",maxRS)"
   ]
  },
  {
   "cell_type": "code",
   "execution_count": null,
   "metadata": {},
   "outputs": [],
   "source": []
  },
  {
   "cell_type": "code",
   "execution_count": 44,
   "metadata": {},
   "outputs": [],
   "source": [
    "from sklearn.linear_model import LinearRegression \n",
    "from sklearn.linear_model import Lasso,Ridge\n",
    "from sklearn.linear_model import ElasticNet"
   ]
  },
  {
   "cell_type": "code",
   "execution_count": 45,
   "metadata": {},
   "outputs": [
    {
     "data": {
      "text/plain": [
       "90.2795021871437"
      ]
     },
     "execution_count": 45,
     "metadata": {},
     "output_type": "execute_result"
    }
   ],
   "source": [
    "#linear regression \n",
    "lm=LinearRegression()\n",
    "lm.fit(x_train,y_train)\n",
    "pred=lm.predict(x_test)\n",
    "lm.score(x_train,y_train)*100"
   ]
  },
  {
   "cell_type": "code",
   "execution_count": 46,
   "metadata": {},
   "outputs": [
    {
     "data": {
      "text/plain": [
       "90.27950218712594"
      ]
     },
     "execution_count": 46,
     "metadata": {},
     "output_type": "execute_result"
    }
   ],
   "source": [
    "#Lasso \n",
    "ls=Lasso(alpha=0.000001)\n",
    "ls.fit(x_train,y_train)\n",
    "pred=ls.predict(x_test)\n",
    "ls.score(x_train,y_train)*100"
   ]
  },
  {
   "cell_type": "code",
   "execution_count": 47,
   "metadata": {},
   "outputs": [
    {
     "data": {
      "text/plain": [
       "90.27950218714369"
      ]
     },
     "execution_count": 47,
     "metadata": {},
     "output_type": "execute_result"
    }
   ],
   "source": [
    "#Ridge \n",
    "rd=Ridge(alpha=0.000001)\n",
    "rd.fit(x_train,y_train)\n",
    "pred=rd.predict(x_test)\n",
    "rd.score(x_train,y_train)*100"
   ]
  },
  {
   "cell_type": "code",
   "execution_count": 48,
   "metadata": {},
   "outputs": [
    {
     "data": {
      "text/plain": [
       "90.27950218709594"
      ]
     },
     "execution_count": 48,
     "metadata": {},
     "output_type": "execute_result"
    }
   ],
   "source": [
    "#elastic net\n",
    "en=ElasticNet(alpha=0.000001)\n",
    "en.fit(x_train,y_train)\n",
    "pred=en.predict(x_test)\n",
    "en.score(x_train,y_train)*100"
   ]
  },
  {
   "cell_type": "markdown",
   "metadata": {},
   "source": [
    "observation-linear regression is giving best  score"
   ]
  },
  {
   "cell_type": "markdown",
   "metadata": {},
   "source": [
    "### cross validation"
   ]
  },
  {
   "cell_type": "code",
   "execution_count": 49,
   "metadata": {},
   "outputs": [],
   "source": [
    "from sklearn.model_selection import cross_val_score"
   ]
  },
  {
   "cell_type": "code",
   "execution_count": 50,
   "metadata": {},
   "outputs": [
    {
     "name": "stdout",
     "output_type": "stream",
     "text": [
      "LinearRegression() 0.8857406146589943\n",
      "Lasso(alpha=1e-06) 0.8857406411636728\n",
      "Ridge(alpha=1e-06) 0.885740614781842\n",
      "ElasticNet(alpha=1e-06) 0.8857406376179109\n"
     ]
    }
   ],
   "source": [
    "models=(lm,ls,rd,en)\n",
    "for i in models:\n",
    "    print (i , cross_val_score(i,x,y,cv=5).mean())"
   ]
  },
  {
   "cell_type": "code",
   "execution_count": 51,
   "metadata": {},
   "outputs": [
    {
     "data": {
      "text/plain": [
       "8142209604"
      ]
     },
     "execution_count": 51,
     "metadata": {},
     "output_type": "execute_result"
    }
   ],
   "source": [
    "#lm\n",
    "9027950218-885740614"
   ]
  },
  {
   "cell_type": "code",
   "execution_count": 52,
   "metadata": {},
   "outputs": [
    {
     "data": {
      "text/plain": [
       "170543807"
      ]
     },
     "execution_count": 52,
     "metadata": {},
     "output_type": "execute_result"
    }
   ],
   "source": [
    "#lasso\n",
    "9027950218-8857406411"
   ]
  },
  {
   "cell_type": "code",
   "execution_count": 53,
   "metadata": {},
   "outputs": [
    {
     "data": {
      "text/plain": [
       "8142209604"
      ]
     },
     "execution_count": 53,
     "metadata": {},
     "output_type": "execute_result"
    }
   ],
   "source": [
    "#ridge\n",
    "9027950218-885740614"
   ]
  },
  {
   "cell_type": "code",
   "execution_count": 54,
   "metadata": {},
   "outputs": [
    {
     "data": {
      "text/plain": [
       "8142209581"
      ]
     },
     "execution_count": 54,
     "metadata": {},
     "output_type": "execute_result"
    }
   ],
   "source": [
    "#EN\n",
    "9027950218-885740637"
   ]
  },
  {
   "cell_type": "markdown",
   "metadata": {},
   "source": [
    "Observation - lasso gives the smallest difference"
   ]
  },
  {
   "cell_type": "markdown",
   "metadata": {},
   "source": [
    "### hyper parameter"
   ]
  },
  {
   "cell_type": "code",
   "execution_count": 55,
   "metadata": {},
   "outputs": [],
   "source": [
    "from sklearn.model_selection import GridSearchCV"
   ]
  },
  {
   "cell_type": "code",
   "execution_count": 56,
   "metadata": {},
   "outputs": [],
   "source": [
    "parameters={\"warm_start\":[\"true\",\"false\",],\n",
    "            \"positive\":[\"true\",\"false\"],\n",
    "             \"max_iter\":np.arange(1,10),\n",
    "           \"selection\":[\"cyclic\",\"srandom\"]}"
   ]
  },
  {
   "cell_type": "code",
   "execution_count": 57,
   "metadata": {},
   "outputs": [],
   "source": [
    "GCV=GridSearchCV(Lasso(),parameters,cv=5)"
   ]
  },
  {
   "cell_type": "code",
   "execution_count": 58,
   "metadata": {},
   "outputs": [
    {
     "data": {
      "text/plain": [
       "dict_keys(['alpha', 'copy_X', 'fit_intercept', 'max_iter', 'normalize', 'random_state', 'solver', 'tol'])"
      ]
     },
     "execution_count": 58,
     "metadata": {},
     "output_type": "execute_result"
    }
   ],
   "source": [
    "rd.get_params().keys()"
   ]
  },
  {
   "cell_type": "code",
   "execution_count": 59,
   "metadata": {},
   "outputs": [
    {
     "data": {
      "text/plain": [
       "GridSearchCV(cv=5, estimator=Lasso(),\n",
       "             param_grid={'max_iter': array([1, 2, 3, 4, 5, 6, 7, 8, 9]),\n",
       "                         'positive': ['true', 'false'],\n",
       "                         'selection': ['cyclic', 'srandom'],\n",
       "                         'warm_start': ['true', 'false']})"
      ]
     },
     "execution_count": 59,
     "metadata": {},
     "output_type": "execute_result"
    }
   ],
   "source": [
    "GCV.fit(x_train,y_train)"
   ]
  },
  {
   "cell_type": "code",
   "execution_count": 60,
   "metadata": {},
   "outputs": [
    {
     "data": {
      "text/plain": [
       "{'max_iter': 4,\n",
       " 'positive': 'true',\n",
       " 'selection': 'cyclic',\n",
       " 'warm_start': 'true'}"
      ]
     },
     "execution_count": 60,
     "metadata": {},
     "output_type": "execute_result"
    }
   ],
   "source": [
    "GCV.best_params_"
   ]
  },
  {
   "cell_type": "code",
   "execution_count": 61,
   "metadata": {},
   "outputs": [],
   "source": [
    "### final model selection "
   ]
  },
  {
   "cell_type": "code",
   "execution_count": 62,
   "metadata": {},
   "outputs": [
    {
     "name": "stdout",
     "output_type": "stream",
     "text": [
      "81.05272986847697\n"
     ]
    }
   ],
   "source": [
    "final_mod=Lasso( max_iter=4 ,positive=\"true\",selection=\"cyclic\",warm_start=\"true\" )\n",
    "final_mod.fit(x_train ,y_train)\n",
    "pred=final_mod.predict(x_test)\n",
    "score=final_mod.score(x_train,y_train)\n",
    "print(score*100)"
   ]
  },
  {
   "cell_type": "markdown",
   "metadata": {},
   "source": [
    "### saving final model"
   ]
  },
  {
   "cell_type": "code",
   "execution_count": 63,
   "metadata": {},
   "outputs": [
    {
     "data": {
      "text/plain": [
       "['Advertise.pkl']"
      ]
     },
     "execution_count": 63,
     "metadata": {},
     "output_type": "execute_result"
    }
   ],
   "source": [
    "import joblib\n",
    "joblib.dump(final_mod,\"Advertise.pkl\")"
   ]
  }
 ],
 "metadata": {
  "kernelspec": {
   "display_name": "Python 3",
   "language": "python",
   "name": "python3"
  },
  "language_info": {
   "codemirror_mode": {
    "name": "ipython",
    "version": 3
   },
   "file_extension": ".py",
   "mimetype": "text/x-python",
   "name": "python",
   "nbconvert_exporter": "python",
   "pygments_lexer": "ipython3",
   "version": "3.8.5"
  }
 },
 "nbformat": 4,
 "nbformat_minor": 4
}
